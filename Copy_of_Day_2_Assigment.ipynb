{
  "nbformat": 4,
  "nbformat_minor": 0,
  "metadata": {
    "colab": {
      "name": "Copy of Day 2 Assigment.ipynb",
      "provenance": [],
      "mount_file_id": "1vBGX6PECJoGtJ9jIPs7JCQGTFDMJgENb",
      "authorship_tag": "ABX9TyMVKBY8GrR8S4LeW/YXoviG",
      "include_colab_link": true
    },
    "kernelspec": {
      "name": "python3",
      "display_name": "Python 3"
    },
    "language_info": {
      "name": "python"
    }
  },
  "cells": [
    {
      "cell_type": "markdown",
      "metadata": {
        "id": "view-in-github",
        "colab_type": "text"
      },
      "source": [
        "<a href=\"https://colab.research.google.com/github/Harishma-Nair/Data-Visualization-using-python/blob/main/Copy_of_Day_2_Assigment.ipynb\" target=\"_parent\"><img src=\"https://colab.research.google.com/assets/colab-badge.svg\" alt=\"Open In Colab\"/></a>"
      ]
    },
    {
      "cell_type": "code",
      "metadata": {
        "id": "3coGRQ8qpnev"
      },
      "source": [
        "import pandas as pd \n",
        "import numpy as np \n",
        "import matplotlib.pyplot as plt\n",
        "%matplotlib inline \n",
        "\n",
        "import seaborn as sns \n",
        "import matplotlib as mpl\n",
        "from numpy.random import randn, randint, uniform, sample"
      ],
      "execution_count": null,
      "outputs": []
    },
    {
      "cell_type": "code",
      "metadata": {
        "id": "keAJV1yux_qq",
        "colab": {
          "base_uri": "https://localhost:8080/",
          "height": 359
        },
        "outputId": "0d683944-e2f2-4a5a-f5fb-ed06cadbbc16"
      },
      "source": [
        "#to create a dataframe with 10 rows with random numbers and 4 columns (columns labelled as 'a', 'b', 'c', 'd')\n",
        "df = pd.DataFrame(randn(10,4),columns=['a','b','c','d'])\n",
        "df\n"
      ],
      "execution_count": null,
      "outputs": [
        {
          "output_type": "execute_result",
          "data": {
            "text/html": [
              "<div>\n",
              "<style scoped>\n",
              "    .dataframe tbody tr th:only-of-type {\n",
              "        vertical-align: middle;\n",
              "    }\n",
              "\n",
              "    .dataframe tbody tr th {\n",
              "        vertical-align: top;\n",
              "    }\n",
              "\n",
              "    .dataframe thead th {\n",
              "        text-align: right;\n",
              "    }\n",
              "</style>\n",
              "<table border=\"1\" class=\"dataframe\">\n",
              "  <thead>\n",
              "    <tr style=\"text-align: right;\">\n",
              "      <th></th>\n",
              "      <th>a</th>\n",
              "      <th>b</th>\n",
              "      <th>c</th>\n",
              "      <th>d</th>\n",
              "    </tr>\n",
              "  </thead>\n",
              "  <tbody>\n",
              "    <tr>\n",
              "      <th>0</th>\n",
              "      <td>-0.479280</td>\n",
              "      <td>0.271011</td>\n",
              "      <td>0.574912</td>\n",
              "      <td>-3.391618</td>\n",
              "    </tr>\n",
              "    <tr>\n",
              "      <th>1</th>\n",
              "      <td>-0.303223</td>\n",
              "      <td>-0.166280</td>\n",
              "      <td>0.421602</td>\n",
              "      <td>-0.032257</td>\n",
              "    </tr>\n",
              "    <tr>\n",
              "      <th>2</th>\n",
              "      <td>-1.312500</td>\n",
              "      <td>-1.149854</td>\n",
              "      <td>0.974581</td>\n",
              "      <td>-1.526200</td>\n",
              "    </tr>\n",
              "    <tr>\n",
              "      <th>3</th>\n",
              "      <td>1.668795</td>\n",
              "      <td>-1.155553</td>\n",
              "      <td>-0.842734</td>\n",
              "      <td>1.215749</td>\n",
              "    </tr>\n",
              "    <tr>\n",
              "      <th>4</th>\n",
              "      <td>0.052485</td>\n",
              "      <td>1.122531</td>\n",
              "      <td>0.171527</td>\n",
              "      <td>0.167935</td>\n",
              "    </tr>\n",
              "    <tr>\n",
              "      <th>5</th>\n",
              "      <td>0.532942</td>\n",
              "      <td>-1.415628</td>\n",
              "      <td>0.349482</td>\n",
              "      <td>1.215265</td>\n",
              "    </tr>\n",
              "    <tr>\n",
              "      <th>6</th>\n",
              "      <td>0.245489</td>\n",
              "      <td>-0.316010</td>\n",
              "      <td>-0.495138</td>\n",
              "      <td>0.129195</td>\n",
              "    </tr>\n",
              "    <tr>\n",
              "      <th>7</th>\n",
              "      <td>-0.671915</td>\n",
              "      <td>0.103092</td>\n",
              "      <td>0.247928</td>\n",
              "      <td>0.230115</td>\n",
              "    </tr>\n",
              "    <tr>\n",
              "      <th>8</th>\n",
              "      <td>1.065364</td>\n",
              "      <td>0.227840</td>\n",
              "      <td>-0.123879</td>\n",
              "      <td>-1.645032</td>\n",
              "    </tr>\n",
              "    <tr>\n",
              "      <th>9</th>\n",
              "      <td>0.348976</td>\n",
              "      <td>0.159007</td>\n",
              "      <td>-0.828107</td>\n",
              "      <td>2.002349</td>\n",
              "    </tr>\n",
              "  </tbody>\n",
              "</table>\n",
              "</div>"
            ],
            "text/plain": [
              "          a         b         c         d\n",
              "0 -0.479280  0.271011  0.574912 -3.391618\n",
              "1 -0.303223 -0.166280  0.421602 -0.032257\n",
              "2 -1.312500 -1.149854  0.974581 -1.526200\n",
              "3  1.668795 -1.155553 -0.842734  1.215749\n",
              "4  0.052485  1.122531  0.171527  0.167935\n",
              "5  0.532942 -1.415628  0.349482  1.215265\n",
              "6  0.245489 -0.316010 -0.495138  0.129195\n",
              "7 -0.671915  0.103092  0.247928  0.230115\n",
              "8  1.065364  0.227840 -0.123879 -1.645032\n",
              "9  0.348976  0.159007 -0.828107  2.002349"
            ]
          },
          "metadata": {
            "tags": []
          },
          "execution_count": 7
        }
      ]
    },
    {
      "cell_type": "code",
      "metadata": {
        "id": "8qgmm1QWH1L7",
        "colab": {
          "base_uri": "https://localhost:8080/",
          "height": 523
        },
        "outputId": "b486e0c4-8d12-4512-a7a1-3ebd60bea5a0"
      },
      "source": [
        "df.plot(kind='bar',width=(3),figsize=(10,8))\n",
        "plt.title('Bar graph', color = 'blue', fontsize= 20)\n",
        "plt.xlabel('x-axis', color='blue', fontsize= 20)\n",
        "plt.ylabel('y-axis', color='blue',fontsize= 20)\n",
        "plt.show()"
      ],
      "execution_count": null,
      "outputs": [
        {
          "output_type": "display_data",
          "data": {
            "image/png": "[encoded data removed]",
            "text/plain": [
              "<Figure size 720x576 with 1 Axes>"
            ]
          },
          "metadata": {
            "tags": [],
            "needs_background": "light"
          }
        }
      ]
    },
    {
      "cell_type": "code",
      "metadata": {
        "id": "lNRQV1AiH-H4"
      },
      "source": [
        ""
      ],
      "execution_count": null,
      "outputs": []
    }
  ]
}