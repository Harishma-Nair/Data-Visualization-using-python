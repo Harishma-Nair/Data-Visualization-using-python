{
  "nbformat": 4,
  "nbformat_minor": 0,
  "metadata": {
    "colab": {
      "name": "Day 2 Assigment.ipynb",
      "provenance": [],
      "collapsed_sections": []
    },
    "kernelspec": {
      "name": "python3",
      "display_name": "Python 3"
    },
    "language_info": {
      "name": "python"
    }
  },
  "cells": [
    {
      "cell_type": "code",
      "metadata": {
        "id": "3coGRQ8qpnev"
      },
      "source": [
        "import pandas as pd \n",
        "import numpy as np \n",
        "import matplotlib.pyplot as plt\n",
        "%matplotlib inline \n",
        "\n",
        "import seaborn as sns \n",
        "import matplotlib as mpl\n",
        "from numpy.random import randn, randint, uniform, sample"
      ],
      "execution_count": null,
      "outputs": []
    },
    {
      "cell_type": "code",
      "metadata": {
        "id": "keAJV1yux_qq",
        "colab": {
          "base_uri": "https://localhost:8080/",
          "height": 359
        },
        "outputId": "1737c415-321f-462d-deaf-082fd87822ec"
      },
      "source": [
        "#to create a dataframe with 10 rows with random numbers and 4 columns (columns labelled as 'a', 'b', 'c', 'd')\n",
        "df = pd.DataFrame(randn(10,4),columns=['a','b','c','d'])\n",
        "df"
      ],
      "execution_count": null,
      "outputs": [
        {
          "output_type": "execute_result",
          "data": {
            "text/html": [
              "<div>\n",
              "<style scoped>\n",
              "    .dataframe tbody tr th:only-of-type {\n",
              "        vertical-align: middle;\n",
              "    }\n",
              "\n",
              "    .dataframe tbody tr th {\n",
              "        vertical-align: top;\n",
              "    }\n",
              "\n",
              "    .dataframe thead th {\n",
              "        text-align: right;\n",
              "    }\n",
              "</style>\n",
              "<table border=\"1\" class=\"dataframe\">\n",
              "  <thead>\n",
              "    <tr style=\"text-align: right;\">\n",
              "      <th></th>\n",
              "      <th>a</th>\n",
              "      <th>b</th>\n",
              "      <th>c</th>\n",
              "      <th>d</th>\n",
              "    </tr>\n",
              "  </thead>\n",
              "  <tbody>\n",
              "    <tr>\n",
              "      <th>0</th>\n",
              "      <td>-1.740174</td>\n",
              "      <td>-1.132386</td>\n",
              "      <td>-0.772334</td>\n",
              "      <td>-1.336565</td>\n",
              "    </tr>\n",
              "    <tr>\n",
              "      <th>1</th>\n",
              "      <td>-1.242993</td>\n",
              "      <td>0.066204</td>\n",
              "      <td>0.402669</td>\n",
              "      <td>0.271063</td>\n",
              "    </tr>\n",
              "    <tr>\n",
              "      <th>2</th>\n",
              "      <td>0.149731</td>\n",
              "      <td>-1.696091</td>\n",
              "      <td>0.063378</td>\n",
              "      <td>-0.690083</td>\n",
              "    </tr>\n",
              "    <tr>\n",
              "      <th>3</th>\n",
              "      <td>-0.168523</td>\n",
              "      <td>1.793176</td>\n",
              "      <td>-0.445054</td>\n",
              "      <td>-1.487742</td>\n",
              "    </tr>\n",
              "    <tr>\n",
              "      <th>4</th>\n",
              "      <td>1.531210</td>\n",
              "      <td>-1.041654</td>\n",
              "      <td>0.146543</td>\n",
              "      <td>-1.149470</td>\n",
              "    </tr>\n",
              "    <tr>\n",
              "      <th>5</th>\n",
              "      <td>2.858881</td>\n",
              "      <td>0.455811</td>\n",
              "      <td>-0.851591</td>\n",
              "      <td>-0.307202</td>\n",
              "    </tr>\n",
              "    <tr>\n",
              "      <th>6</th>\n",
              "      <td>-1.643269</td>\n",
              "      <td>0.864569</td>\n",
              "      <td>1.353816</td>\n",
              "      <td>-0.441613</td>\n",
              "    </tr>\n",
              "    <tr>\n",
              "      <th>7</th>\n",
              "      <td>-1.881762</td>\n",
              "      <td>0.170456</td>\n",
              "      <td>0.048789</td>\n",
              "      <td>-0.020754</td>\n",
              "    </tr>\n",
              "    <tr>\n",
              "      <th>8</th>\n",
              "      <td>3.655746</td>\n",
              "      <td>1.652966</td>\n",
              "      <td>-0.114411</td>\n",
              "      <td>-0.309712</td>\n",
              "    </tr>\n",
              "    <tr>\n",
              "      <th>9</th>\n",
              "      <td>-0.070843</td>\n",
              "      <td>-1.339162</td>\n",
              "      <td>0.088269</td>\n",
              "      <td>-0.371884</td>\n",
              "    </tr>\n",
              "  </tbody>\n",
              "</table>\n",
              "</div>"
            ],
            "text/plain": [
              "          a         b         c         d\n",
              "0 -1.740174 -1.132386 -0.772334 -1.336565\n",
              "1 -1.242993  0.066204  0.402669  0.271063\n",
              "2  0.149731 -1.696091  0.063378 -0.690083\n",
              "3 -0.168523  1.793176 -0.445054 -1.487742\n",
              "4  1.531210 -1.041654  0.146543 -1.149470\n",
              "5  2.858881  0.455811 -0.851591 -0.307202\n",
              "6 -1.643269  0.864569  1.353816 -0.441613\n",
              "7 -1.881762  0.170456  0.048789 -0.020754\n",
              "8  3.655746  1.652966 -0.114411 -0.309712\n",
              "9 -0.070843 -1.339162  0.088269 -0.371884"
            ]
          },
          "metadata": {
            "tags": []
          },
          "execution_count": 3
        }
      ]
    },
    {
      "cell_type": "code",
      "metadata": {
        "colab": {
          "base_uri": "https://localhost:8080/",
          "height": 523
        },
        "id": "XMXDy5OpI-e0",
        "outputId": "1e7e4976-b651-499f-d7b2-22fbad8e92ba"
      },
      "source": [
        "df.plot(kind='bar',width=(3),figsize=(10,8))\n",
        "plt.title('Bar graph', color = 'blue', fontsize= 20)\n",
        "plt.xlabel('x-axis', color='blue', fontsize= 20)\n",
        "plt.ylabel('y-axis', color='blue',fontsize= 20)\n",
        "plt.show()"
      ],
      "execution_count": null,
      "outputs": [
        {
          "output_type": "display_data",
          "data": {
            "image/png": "[encoded data removed]",
            "text/plain": [
              "<Figure size 720x576 with 1 Axes>"
            ]
          },
          "metadata": {
            "tags": [],
            "needs_background": "light"
          }
        }
      ]
    },
    {
      "cell_type": "code",
      "metadata": {
        "id": "uZpCwOaZJOjw"
      },
      "source": [
        ""
      ],
      "execution_count": null,
      "outputs": []
    }
  ]
}
