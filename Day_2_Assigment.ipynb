{
  "nbformat": 4,
  "nbformat_minor": 0,
  "metadata": {
    "colab": {
      "name": "Day 2 Assigment.ipynb",
      "provenance": [],
      "mount_file_id": "1vBGX6PECJoGtJ9jIPs7JCQGTFDMJgENb",
      "authorship_tag": "ABX9TyMfbSVXK9OrbGyLwP2EOmUW",
      "include_colab_link": true
    },
    "kernelspec": {
      "name": "python3",
      "display_name": "Python 3"
    },
    "language_info": {
      "name": "python"
    }
  },
  "cells": [
    {
      "cell_type": "markdown",
      "metadata": {
        "id": "view-in-github",
        "colab_type": "text"
      },
      "source": [
        "<a href=\"https://colab.research.google.com/github/Harishma-Nair/Data-Visualization-using-python/blob/main/Day_2_Assigment.ipynb\" target=\"_parent\"><img src=\"https://colab.research.google.com/assets/colab-badge.svg\" alt=\"Open In Colab\"/></a>"
      ]
    },
    {
      "cell_type": "code",
      "metadata": {
        "id": "3coGRQ8qpnev"
      },
      "source": [
        "import pandas as pd \n",
        "import numpy as np \n",
        "import matplotlib.pyplot as plt\n",
        "%matplotlib inline \n",
        "\n",
        "import seaborn as sns \n",
        "import matplotlib as mpl\n",
        "from numpy.random import randn, randint, uniform, sample"
      ],
      "execution_count": 4,
      "outputs": []
    },
    {
      "cell_type": "code",
      "metadata": {
        "colab": {
          "base_uri": "https://localhost:8080/"
        },
        "id": "R7JsODIuqJQL",
        "outputId": "67e3295d-9e5e-4406-e310-64367b5a3990"
      },
      "source": [
        "#to create a dataframe with 10 rows with random numbers and 4 columns (columns labelled as 'a', 'b', 'c', 'd')\n",
        "df = pd.DataFrame(randn(10,4), columns = ['a', 'b', 'c', 'd'])\n",
        "df\n",
        "x = df['a']\n",
        "y= df['b']\n",
        "x"
      ],
      "execution_count": 23,
      "outputs": [
        {
          "output_type": "execute_result",
          "data": {
            "text/plain": [
              "0    0.098443\n",
              "1   -0.116611\n",
              "2    0.490075\n",
              "3    0.224368\n",
              "4   -0.090042\n",
              "5   -0.795955\n",
              "6    0.246713\n",
              "7   -1.200220\n",
              "8   -0.785210\n",
              "9   -0.584106\n",
              "Name: a, dtype: float64"
            ]
          },
          "metadata": {
            "tags": []
          },
          "execution_count": 23
        }
      ]
    },
    {
      "cell_type": "code",
      "metadata": {
        "colab": {
          "base_uri": "https://localhost:8080/"
        },
        "id": "_NU3Bpvtx5D0",
        "outputId": "ce2f9ae2-6dc6-4b5c-fad4-b004ed09842c"
      },
      "source": [
        "y"
      ],
      "execution_count": 24,
      "outputs": [
        {
          "output_type": "execute_result",
          "data": {
            "text/plain": [
              "0    0.934403\n",
              "1   -0.449654\n",
              "2    1.024849\n",
              "3   -1.447095\n",
              "4    0.159761\n",
              "5    1.036599\n",
              "6    0.642835\n",
              "7    0.772262\n",
              "8    0.490693\n",
              "9   -0.791549\n",
              "Name: b, dtype: float64"
            ]
          },
          "metadata": {
            "tags": []
          },
          "execution_count": 24
        }
      ]
    },
    {
      "cell_type": "code",
      "metadata": {
        "colab": {
          "base_uri": "https://localhost:8080/",
          "height": 300
        },
        "id": "mANX6y1Jsq9A",
        "outputId": "2c513f09-8013-4aa2-bf04-d61be43ddfde"
      },
      "source": [
        "plt.bar(x,y, width=0.2, color = '#d757eb')\n",
        "plt.title('Bar graph', color = 'blue', fontsize= 20)\n",
        "plt.xlabel('x-axis', color='blue', fontsize= 10)\n",
        "plt.ylabel('y-axis', color='blue',fontsize= 10)\n",
        "plt.show()"
      ],
      "execution_count": 30,
      "outputs": [
        {
          "output_type": "display_data",
          "data": {
            "image/png": "[encoded data removed]",
            "text/plain": [
              "<Figure size 432x288 with 1 Axes>"
            ]
          },
          "metadata": {
            "tags": [],
            "needs_background": "light"
          }
        }
      ]
    },
    {
      "cell_type": "code",
      "metadata": {
        "id": "keAJV1yux_qq"
      },
      "source": [
        ""
      ],
      "execution_count": null,
      "outputs": []
    }
  ]
}